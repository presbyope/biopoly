{
 "cells": [
  {
   "cell_type": "code",
   "execution_count": null,
   "metadata": {
    "scrolled": false
   },
   "outputs": [],
   "source": [
    "import numpy as np\n",
    "import bio_lib as bl\n",
    "import matplotlib.pyplot as plt\n",
    "import seaborn\n",
    "\n",
    "%matplotlib inline\n",
    "\n",
    "### STEP 1:\n",
    "# consider the standard values for the variables:\n",
    "# \n",
    "# Number of Crickets: 5\n",
    "# Wind Speed: 2 meters per second\n",
    "# Temperature: 25 °C\n",
    "# Pressure: 760 torr\n",
    "# Humidity: 15%\n",
    "\n",
    "# Design the experiment range           ### STEP 2: Decide on what range of values you will use\n",
    "x_min = 1                              ### type the minimum value of independent variable here\n",
    "x_max = 100                            ### type the maximum value of independent variable here\n",
    "x = np.linspace(x_min, x_max, 200)\n",
    "\n",
    "\n",
    "\n",
    "# Gather the experiment data            ### STEP 3:\n",
    "y = bl.chirprate(number_crickets=x)    ### Delete the # at the start of the line for your independent variable\n",
    "#y = bl.chirprate(wind_speed=x)         ###\n",
    "#y = bl.chirprate(temperature=x)        ###\n",
    "#y = bl.chirprate(pressure=x)           ###\n",
    "#y = bl.chirprate(humidity=x)           ###\n",
    "\n",
    "\n",
    "\n",
    "# Plot the experiment results\n",
    "plt.plot(x,y)\n",
    "\n",
    "# Label the X axis                      ### STEP 4: Delete the # on the line for your independent variable\n",
    "plt.xlabel(r'Number of Crickets', fontsize=14)\n",
    "#plt.xlabel(r'Wind Speed (m/s)', fontsize=14)\n",
    "#plt.xlabel(r'Temperature (°C)', fontsize=14)\n",
    "#plt.xlabel(r'Pressure (torr)', fontsize=14)\n",
    "#plt.xlabel(r'Humidity (%)', fontsize=14)\n",
    "\n",
    "# Label the Y axis\n",
    "plt.ylabel(r'Cricket Chirps per Minute', fontsize=14)\n",
    "_ = plt.yticks([0,50,100,150,200,250])\n",
    "\n",
    "\n",
    "\n",
    "                                        ### STEP 5. Run the notebook by clicking in the toolbar ▶️\n",
    "                                        ### Save and upload a screenshot of the plot and you are done!"
   ]
  },
  {
   "cell_type": "code",
   "execution_count": null,
   "metadata": {},
   "outputs": [],
   "source": []
  }
 ],
 "metadata": {
  "kernelspec": {
   "display_name": "Python 3",
   "language": "python",
   "name": "python3"
  },
  "language_info": {
   "codemirror_mode": {
    "name": "ipython",
    "version": 3
   },
   "file_extension": ".py",
   "mimetype": "text/x-python",
   "name": "python",
   "nbconvert_exporter": "python",
   "pygments_lexer": "ipython3",
   "version": "3.8.2"
  }
 },
 "nbformat": 4,
 "nbformat_minor": 4
}
